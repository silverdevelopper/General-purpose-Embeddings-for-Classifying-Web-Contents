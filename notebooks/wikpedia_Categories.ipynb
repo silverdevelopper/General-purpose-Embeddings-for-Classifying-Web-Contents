{
 "cells": [
  {
   "cell_type": "code",
   "execution_count": 20,
   "metadata": {},
   "outputs": [],
   "source": [
    "import pandas as pd\n",
    "import numpy as np\n",
    "import json\n",
    "\n",
    "#df = pd.read_parquet(\"hf://datasets/Laz4rz/wikipedia_science_chunked_small_rag_512/wikipedia_science_chunked_small_rag.parquet\")"
   ]
  },
  {
   "cell_type": "code",
   "execution_count": null,
   "metadata": {},
   "outputs": [],
   "source": [
    "df=pd.read_csv(\"../data/raw/wikipedia_science_chunked_small_rag_512.csv\")\n",
    "df_sample = df.sample(n=16000, random_state=3531)\n",
    "df_sample.to_csv(\"../data/raw/wikipedia_m.csv\", index=False)"
   ]
  },
  {
   "cell_type": "code",
   "execution_count": 1,
   "metadata": {},
   "outputs": [
    {
     "name": "stderr",
     "output_type": "stream",
     "text": [
      "[nltk_data] Downloading package punkt to /Users/ngumus/nltk_data...\n",
      "[nltk_data]   Unzipping tokenizers/punkt.zip.\n",
      "[nltk_data] Downloading package stopwords to\n",
      "[nltk_data]     /Users/ngumus/nltk_data...\n",
      "[nltk_data]   Unzipping corpora/stopwords.zip.\n",
      "[nltk_data] Downloading package wordnet to /Users/ngumus/nltk_data...\n",
      "[nltk_data] Downloading package averaged_perceptron_tagger to\n",
      "[nltk_data]     /Users/ngumus/nltk_data...\n",
      "[nltk_data]   Unzipping taggers/averaged_perceptron_tagger.zip.\n"
     ]
    },
    {
     "data": {
      "text/plain": [
       "True"
      ]
     },
     "execution_count": 1,
     "metadata": {},
     "output_type": "execute_result"
    }
   ],
   "source": [
    "#import nltk\n",
    "# Tokenization (required for word/sentence tokenization)\n",
    "# nltk.download('punkt')\n",
    "\n",
    "# # Stopwords (useful for removing common stopwords)\n",
    "# nltk.download('stopwords')\n",
    "\n",
    "# # Lemmatization with WordNet\n",
    "# nltk.download('wordnet')\n",
    "\n",
    "# # Parts of Speech Tagging, if needed\n",
    "# nltk.download('averaged_perceptron_tagger')\n",
    "# nltk.download('punkt_tab')"
   ]
  },
  {
   "cell_type": "code",
   "execution_count": 69,
   "metadata": {},
   "outputs": [
    {
     "data": {
      "text/html": [
       "<div>\n",
       "<style scoped>\n",
       "    .dataframe tbody tr th:only-of-type {\n",
       "        vertical-align: middle;\n",
       "    }\n",
       "\n",
       "    .dataframe tbody tr th {\n",
       "        vertical-align: top;\n",
       "    }\n",
       "\n",
       "    .dataframe thead th {\n",
       "        text-align: right;\n",
       "    }\n",
       "</style>\n",
       "<table border=\"1\" class=\"dataframe\">\n",
       "  <thead>\n",
       "    <tr style=\"text-align: right;\">\n",
       "      <th></th>\n",
       "      <th>text</th>\n",
       "      <th>category</th>\n",
       "      <th>url</th>\n",
       "      <th>title</th>\n",
       "    </tr>\n",
       "  </thead>\n",
       "  <tbody>\n",
       "    <tr>\n",
       "      <th>0</th>\n",
       "      <td>think of lampedusa is a collection of serial p...</td>\n",
       "      <td>Literature&amp;Languages</td>\n",
       "      <td>https://en.wikipedia.org/wiki?curid=55818555</td>\n",
       "      <td>Think of Lampedusa</td>\n",
       "    </tr>\n",
       "    <tr>\n",
       "      <th>1</th>\n",
       "      <td>michel degraff degraff holds a phd in computer...</td>\n",
       "      <td>Social_sciences</td>\n",
       "      <td>https://en.wikipedia.org/wiki?curid=44947261</td>\n",
       "      <td>Michel DeGraff</td>\n",
       "    </tr>\n",
       "    <tr>\n",
       "      <th>2</th>\n",
       "      <td>experimenters regress in science experimenters...</td>\n",
       "      <td>Psychology</td>\n",
       "      <td>https://en.wikipedia.org/wiki?curid=1608493</td>\n",
       "      <td>Experimenter's regress</td>\n",
       "    </tr>\n",
       "    <tr>\n",
       "      <th>3</th>\n",
       "      <td>the grand baltimore maryland it was sperry who...</td>\n",
       "      <td>Civil_engineering</td>\n",
       "      <td>https://en.wikipedia.org/wiki?curid=18162747</td>\n",
       "      <td>The Grand (Baltimore, Maryland)</td>\n",
       "    </tr>\n",
       "    <tr>\n",
       "      <th>4</th>\n",
       "      <td>rio de janeiro has the second largest municipa...</td>\n",
       "      <td>History&amp;Archaeology</td>\n",
       "      <td>https://en.wikipedia.org/wiki?curid=25936</td>\n",
       "      <td>Rio de Janeiro</td>\n",
       "    </tr>\n",
       "    <tr>\n",
       "      <th>5</th>\n",
       "      <td>environmental personhood the main point of the...</td>\n",
       "      <td>Humanities</td>\n",
       "      <td>https://en.wikipedia.org/wiki?curid=54993244</td>\n",
       "      <td>Environmental personhood</td>\n",
       "    </tr>\n",
       "    <tr>\n",
       "      <th>6</th>\n",
       "      <td>loudspeaker some horn designs not only fold th...</td>\n",
       "      <td>Engineering&amp;Technology</td>\n",
       "      <td>https://en.wikipedia.org/wiki?curid=45871</td>\n",
       "      <td>Loudspeaker</td>\n",
       "    </tr>\n",
       "    <tr>\n",
       "      <th>7</th>\n",
       "      <td>water scarcity the international resource pane...</td>\n",
       "      <td>Civil_engineering</td>\n",
       "      <td>https://en.wikipedia.org/wiki?curid=15380061</td>\n",
       "      <td>Water scarcity</td>\n",
       "    </tr>\n",
       "    <tr>\n",
       "      <th>8</th>\n",
       "      <td>entschdigungseinrichtung deutscher banken in g...</td>\n",
       "      <td>Business&amp;Economics</td>\n",
       "      <td>https://en.wikipedia.org/wiki?curid=36430324</td>\n",
       "      <td>Entschädigungseinrichtung deutscher Banken</td>\n",
       "    </tr>\n",
       "    <tr>\n",
       "      <th>9</th>\n",
       "      <td>rehabilitation and reintegration of child sold...</td>\n",
       "      <td>History&amp;Archaeology</td>\n",
       "      <td>https://en.wikipedia.org/wiki?curid=56635096</td>\n",
       "      <td>Rehabilitation and reintegration of child so...</td>\n",
       "    </tr>\n",
       "  </tbody>\n",
       "</table>\n",
       "</div>"
      ],
      "text/plain": [
       "                                                text                category  \\\n",
       "0  think of lampedusa is a collection of serial p...    Literature&Languages   \n",
       "1  michel degraff degraff holds a phd in computer...         Social_sciences   \n",
       "2  experimenters regress in science experimenters...              Psychology   \n",
       "3  the grand baltimore maryland it was sperry who...       Civil_engineering   \n",
       "4  rio de janeiro has the second largest municipa...     History&Archaeology   \n",
       "5  environmental personhood the main point of the...              Humanities   \n",
       "6  loudspeaker some horn designs not only fold th...  Engineering&Technology   \n",
       "7  water scarcity the international resource pane...       Civil_engineering   \n",
       "8  entschdigungseinrichtung deutscher banken in g...      Business&Economics   \n",
       "9  rehabilitation and reintegration of child sold...     History&Archaeology   \n",
       "\n",
       "                                            url  \\\n",
       "0  https://en.wikipedia.org/wiki?curid=55818555   \n",
       "1  https://en.wikipedia.org/wiki?curid=44947261   \n",
       "2   https://en.wikipedia.org/wiki?curid=1608493   \n",
       "3  https://en.wikipedia.org/wiki?curid=18162747   \n",
       "4     https://en.wikipedia.org/wiki?curid=25936   \n",
       "5  https://en.wikipedia.org/wiki?curid=54993244   \n",
       "6     https://en.wikipedia.org/wiki?curid=45871   \n",
       "7  https://en.wikipedia.org/wiki?curid=15380061   \n",
       "8  https://en.wikipedia.org/wiki?curid=36430324   \n",
       "9  https://en.wikipedia.org/wiki?curid=56635096   \n",
       "\n",
       "                                               title  \n",
       "0                                 Think of Lampedusa  \n",
       "1                                     Michel DeGraff  \n",
       "2                             Experimenter's regress  \n",
       "3                    The Grand (Baltimore, Maryland)  \n",
       "4                                     Rio de Janeiro  \n",
       "5                           Environmental personhood  \n",
       "6                                        Loudspeaker  \n",
       "7                                     Water scarcity  \n",
       "8         Entschädigungseinrichtung deutscher Banken  \n",
       "9    Rehabilitation and reintegration of child so...  "
      ]
     },
     "execution_count": 69,
     "metadata": {},
     "output_type": "execute_result"
    }
   ],
   "source": [
    "df_sample = pd.read_csv(\"../data/processed/wikipedia_m.csv\")\n",
    "df_sample.head(10)"
   ]
  },
  {
   "cell_type": "code",
   "execution_count": null,
   "metadata": {},
   "outputs": [],
   "source": [
    "from sklearn.feature_extraction.text import TfidfVectorizer\n",
    "from xgboost import XGBClassifier\n",
    "from sklearn.model_selection import train_test_split\n",
    "from sklearn.metrics import accuracy_score\n",
    "import string\n",
    "from nltk.tokenize import word_tokenize\n",
    "import nltk\n",
    "\n",
    "# Extract text and labels\n",
    "X = df_sample['text']\n",
    "df_sample['category_encoded'] = df_sample['category'].astype('category').cat.codes\n",
    "y = df_sample['category_encoded']\n",
    "# Preprocess text: lowercasing, removing punctuation, and tokenizing\n",
    "\n",
    "def preprocess_text(text):\n",
    "    # Lowercase\n",
    "    text = text.lower()\n",
    "    # Remove punctuation\n",
    "    text = text.translate(str.maketrans('', '', string.punctuation))\n",
    "    # Tokenize\n",
    "    tokens = word_tokenize(text)\n",
    "    # Remove stopwords\n",
    "    stopwords = set(nltk.corpus.stopwords.words('english'))\n",
    "    tokens = [word for word in tokens if word not in stopwords]\n",
    "    # Stem the tokens\n",
    "    stemmer = nltk.PorterStemmer()\n",
    "    tokens = [stemmer.stem(word) for word in tokens]\n",
    "    return ' '.join(tokens)\n",
    "\n",
    "# Apply preprocessing to the text data\n",
    "X = X.apply(preprocess_text)\n",
    "\n",
    "# Initialize TF-IDF Vectorizer\n",
    "tfidf_vectorizer = TfidfVectorizer(max_features=5000,ngram_range=(1,6))\n",
    "\n",
    "# Fit and transform the training data, transform the testing data\n",
    "X = tfidf_vectorizer.fit_transform(X)\n",
    "\n",
    "# Split the data into training and testing sets\n",
    "X_train, X_test, y_train, y_test = train_test_split(X, y, test_size=0.2, random_state=412)\n",
    "\n",
    "\n"
   ]
  },
  {
   "cell_type": "code",
   "execution_count": 67,
   "metadata": {},
   "outputs": [
    {
     "data": {
      "text/plain": [
       "['./tfidf_vectorizer.joblib']"
      ]
     },
     "execution_count": 67,
     "metadata": {},
     "output_type": "execute_result"
    }
   ],
   "source": [
    "# Save vectorizer\n",
    "def save(vectorizer:TfidfVectorizer,path:str):\n",
    "    import joblib\n",
    "    joblib.dump(vectorizer, path)"
   ]
  },
  {
   "cell_type": "code",
   "execution_count": 68,
   "metadata": {},
   "outputs": [
    {
     "data": {
      "text/plain": [
       "<16000x5000 sparse matrix of type '<class 'numpy.float64'>'\n",
       "\twith 1134227 stored elements in Compressed Sparse Row format>"
      ]
     },
     "execution_count": 68,
     "metadata": {},
     "output_type": "execute_result"
    }
   ],
   "source": [
    "# Load vectorizer\n",
    "vectorizer = joblib.load(\"./tfidf_vectorizer.joblib\")\n",
    "vectorizer.transform(df_sample['text'].apply(preprocess_text))"
   ]
  },
  {
   "cell_type": "code",
   "execution_count": null,
   "metadata": {},
   "outputs": [],
   "source": [
    "def save(df_sample):\n",
    "    corpus = [preprocess_text(x) for x in df_sample['text'].to_list()]\n",
    "    tfidf_vectorizer = TfidfVectorizer(max_features=5000,ngram_range=(1,6))\n",
    "    tf_idf_matrix = tfidf_vectorizer.fit_transform(corpus).toarray()\n",
    "    df_sample[\"embeddings\"] = tf_idf_matrix.tolist()\n",
    "    df_sample[\"embeddings\"] = df_sample[\"embeddings\"].apply(lambda x: json.dumps(x))\n",
    "    df_sample.to_csv(\"./test.csv\", index=False)\n",
    "    \n",
    "def load():\n",
    "    df_new=pd.read_csv(\"./test.csv\")\n",
    "    df_new[\"embeddings\"] = df_new[\"embeddings\"].apply(lambda x: np.array(json.loads(x))) \n",
    "    X_embed = np.stack(np.array(df_new[\"embeddings\"]))\n",
    "    y_embed = df_new['category_encoded']\n",
    "    X_train, X_test, y_train, y_test = train_test_split(X_embed, y_embed, test_size=0.2, random_state=412)\n",
    "    return X_train, X_test, y_train, y_test\n"
   ]
  },
  {
   "cell_type": "code",
   "execution_count": 65,
   "metadata": {},
   "outputs": [
    {
     "data": {
      "text/plain": [
       "(16000, 5000)"
      ]
     },
     "execution_count": 65,
     "metadata": {},
     "output_type": "execute_result"
    }
   ],
   "source": [
    "df_sample[\"embeddings\"] = X.toarray().tolist()\n",
    "df_sample[\"embeddings\"] = df_sample[\"embeddings\"].apply(lambda x: json.dumps(x))\n",
    "df_sample.to_csv(\"./test.csv\", index=False)\n",
    "df_new=pd.read_csv(\"./test.csv\",converters={'embeddings': lambda x: np.array(json.loads(x))})\n",
    "X_embed = np.stack(np.array(df_new[\"embeddings\"]))\n",
    "X_embed.shape"
   ]
  },
  {
   "cell_type": "code",
   "execution_count": 58,
   "metadata": {},
   "outputs": [
    {
     "name": "stderr",
     "output_type": "stream",
     "text": [
      "/Users/ngumus/projects/Master-Thesis/.venv/lib/python3.10/site-packages/xgboost/core.py:158: UserWarning: [21:20:33] WARNING: /Users/runner/work/xgboost/xgboost/src/learner.cc:740: \n",
      "Parameters: { \"use_label_encoder\" } are not used.\n",
      "\n",
      "  warnings.warn(smsg, UserWarning)\n"
     ]
    },
    {
     "name": "stdout",
     "output_type": "stream",
     "text": [
      "[0]\tvalidation_0-mlogloss:2.51507\n",
      "[1]\tvalidation_0-mlogloss:2.38742\n",
      "[2]\tvalidation_0-mlogloss:2.30649\n",
      "[3]\tvalidation_0-mlogloss:2.24623\n",
      "[4]\tvalidation_0-mlogloss:2.20264\n",
      "[5]\tvalidation_0-mlogloss:2.16495\n",
      "[6]\tvalidation_0-mlogloss:2.13460\n",
      "[7]\tvalidation_0-mlogloss:2.11121\n",
      "[8]\tvalidation_0-mlogloss:2.09011\n",
      "[9]\tvalidation_0-mlogloss:2.07484\n",
      "Accuracy: 0.3690625\n"
     ]
    }
   ],
   "source": [
    "# Initialize and train the XGBoost model\n",
    "xgb_model = XGBClassifier(use_label_encoder=False, \n",
    "                          eval_metric='mlogloss', \n",
    "                          objective='multi:softmax', \n",
    "                          num_class=len(df_sample['category_encoded'].unique()),\n",
    "                          learning_rate=0.3, \n",
    "                          #max_depth=5, \n",
    "                          n_estimators=10,\n",
    "                          #gemma=0.1\n",
    "                          )\n",
    "\n",
    "# Train the XGBoost model with early stopping on the validation set\n",
    "res= xgb_model.fit(X_train, y_train, eval_set=[(X_test, y_test)], verbose=True)\n",
    "\n",
    "# Predict on the test set\n",
    "y_pred = xgb_model.predict(X_test)\n",
    "\n",
    "# Calculate accuracy\n",
    "accuracy = accuracy_score(y_test, y_pred)\n",
    "print(f\"Accuracy: {accuracy}\")"
   ]
  },
  {
   "cell_type": "code",
   "execution_count": 194,
   "metadata": {},
   "outputs": [],
   "source": [
    "# Extract epoch-wise metrics\n",
    "def visualize_model(xgb_model):\n",
    "    from matplotlib import pyplot as plt\n",
    "    results = xgb_model.evals_result_  # Get the evaluation results during training\n",
    "\n",
    "    # Print results keys\n",
    "    print(\"Keys in evals_result_:\", results.keys())\n",
    "    # Accessing specific metrics\n",
    "    validation_loss = results['validation_0']['mlogloss']  # Epoch-wise loss on validation set\n",
    "    epochs = range(1, len(validation_loss) + 1)  # Epoch numbers\n",
    "    # Plot the loss over epochs\n",
    "    plt.figure(figsize=(10, 6))\n",
    "    plt.plot(epochs, validation_loss, label='Validation Loss', marker='o')\n",
    "    plt.title('Validation Loss Across Epochs')\n",
    "    plt.xlabel('Epochs')\n",
    "    plt.ylabel('Log Loss')\n",
    "    plt.legend()\n",
    "    plt.grid()\n",
    "    plt.show()"
   ]
  },
  {
   "cell_type": "code",
   "execution_count": 195,
   "metadata": {},
   "outputs": [
    {
     "name": "stdout",
     "output_type": "stream",
     "text": [
      "Keys in evals_result_: dict_keys(['validation_0'])\n"
     ]
    },
    {
     "data": {
      "image/png": "[encoded data removed]",
      "text/plain": [
       "<Figure size 1000x600 with 1 Axes>"
      ]
     },
     "metadata": {},
     "output_type": "display_data"
    }
   ],
   "source": [
    "visualize_model(xgb_model)"
   ]
  },
  {
   "cell_type": "code",
   "execution_count": 188,
   "metadata": {},
   "outputs": [
    {
     "name": "stdout",
     "output_type": "stream",
     "text": [
      "Random Forest Accuracy: 0.3759375\n"
     ]
    }
   ],
   "source": [
    "from sklearn.ensemble import RandomForestClassifier\n",
    "\n",
    "# Initialize and train the Random Forest model\n",
    "rf_model = RandomForestClassifier(n_estimators=300, random_state=42,criterion=\"log_loss\")\n",
    "rf_model.fit(X_train, y_train)\n",
    "\n",
    "# Predict on the test set\n",
    "y_pred_rf = rf_model.predict(X_test)\n",
    "\n",
    "# Calculate accuracy\n",
    "accuracy_rf = accuracy_score(y_test, y_pred_rf)\n",
    "print(f\"Random Forest Accuracy: {accuracy_rf}\")"
   ]
  },
  {
   "cell_type": "code",
   "execution_count": 174,
   "metadata": {},
   "outputs": [
    {
     "data": {
      "text/plain": [
       "<1200x5000 sparse matrix of type '<class 'numpy.float64'>'\n",
       "\twith 84965 stored elements in Compressed Sparse Row format>"
      ]
     },
     "execution_count": 174,
     "metadata": {},
     "output_type": "execute_result"
    }
   ],
   "source": [
    "X_test"
   ]
  },
  {
   "cell_type": "code",
   "execution_count": 199,
   "metadata": {},
   "outputs": [
    {
     "name": "stdout",
     "output_type": "stream",
     "text": [
      "Input dimensions: 5000\n",
      "Output dimensions: 16\n",
      "SimpleNN(\n",
      "  (fc1): Linear(in_features=5000, out_features=128, bias=True)\n",
      "  (relu): ReLU()\n",
      "  (dropout): Dropout(p=0.5, inplace=False)\n",
      "  (fc2): Linear(in_features=128, out_features=128, bias=True)\n",
      "  (fc3): Linear(in_features=128, out_features=64, bias=True)\n",
      "  (fc4): Linear(in_features=64, out_features=32, bias=True)\n",
      "  (fc5): Linear(in_features=32, out_features=16, bias=True)\n",
      ")\n",
      "Epoch 1/20, Train Loss: 2.1665, Train Accuracy: 0.2744, Validation Accuracy: 0.3331\n",
      "Epoch 2/20, Train Loss: 1.7046, Train Accuracy: 0.4214, Validation Accuracy: 0.3669\n",
      "Epoch 3/20, Train Loss: 1.4196, Train Accuracy: 0.5136, Validation Accuracy: 0.3500\n",
      "Epoch 4/20, Train Loss: 1.1776, Train Accuracy: 0.6044, Validation Accuracy: 0.3350\n",
      "Epoch 5/20, Train Loss: 0.9698, Train Accuracy: 0.6830, Validation Accuracy: 0.3375\n",
      "Epoch 6/20, Train Loss: 0.8179, Train Accuracy: 0.7346, Validation Accuracy: 0.3369\n",
      "Epoch 7/20, Train Loss: 0.7217, Train Accuracy: 0.7714, Validation Accuracy: 0.3416\n",
      "Epoch 8/20, Train Loss: 0.6324, Train Accuracy: 0.8062, Validation Accuracy: 0.3241\n",
      "Epoch 9/20, Train Loss: 0.5585, Train Accuracy: 0.8282, Validation Accuracy: 0.3309\n",
      "Epoch 10/20, Train Loss: 0.5140, Train Accuracy: 0.8459, Validation Accuracy: 0.3281\n",
      "Epoch 11/20, Train Loss: 0.3248, Train Accuracy: 0.9103, Validation Accuracy: 0.3284\n",
      "Epoch 12/20, Train Loss: 0.1957, Train Accuracy: 0.9505, Validation Accuracy: 0.3281\n",
      "Early stopping triggered!\n",
      "Best validation accuracy achieved: 0.3669\n"
     ]
    },
    {
     "data": {
      "image/png": "[encoded data removed]",
      "text/plain": [
       "<Figure size 1400x600 with 2 Axes>"
      ]
     },
     "metadata": {},
     "output_type": "display_data"
    }
   ],
   "source": [
    "import torch\n",
    "from torch.utils.data import DataLoader, TensorDataset\n",
    "import torch.nn as nn\n",
    "import torch.optim as optim\n",
    "import matplotlib.pyplot as plt\n",
    "import numpy as np\n",
    "\n",
    "# Example dataset preprocessing (replace with your actual TF-IDF and labels)\n",
    "# Assuming X_train_tfidf, X_test_tfidf, y_train, y_test are preprocessed\n",
    "X_train_tensor = torch.tensor(X_train.toarray(), dtype=torch.float32)\n",
    "X_test_tensor = torch.tensor(X_test.toarray(), dtype=torch.float32)\n",
    "y_train_tensor = torch.tensor(y_train.values, dtype=torch.long)\n",
    "y_test_tensor = torch.tensor(y_test.values, dtype=torch.long)\n",
    "\n",
    "# Create DataLoader for training and testing\n",
    "train_dataset = TensorDataset(X_train_tensor, y_train_tensor)\n",
    "test_dataset = TensorDataset(X_test_tensor, y_test_tensor)\n",
    "train_loader = DataLoader(train_dataset, batch_size=64, shuffle=True)  # Shuffle during training\n",
    "test_loader = DataLoader(test_dataset, batch_size=64, shuffle=False)\n",
    "\n",
    "\n",
    "# Neural network with dropout for regularization\n",
    "class SimpleNN(nn.Module):\n",
    "    def __init__(self, input_dim, output_dim):\n",
    "        super(SimpleNN, self).__init__()\n",
    "        self.fc1 = nn.Linear(input_dim, 128)\n",
    "        self.relu = nn.ReLU()\n",
    "        self.dropout = nn.Dropout(p=0.5)  # Dropout to prevent overfitting\n",
    "        self.fc2 = nn.Linear(128, 128)\n",
    "        self.fc3 = nn.Linear(128, 64)\n",
    "        self.fc4 = nn.Linear(64, 32)\n",
    "        self.fc5 = nn.Linear(32, output_dim)\n",
    "        \n",
    "    def forward(self, x):\n",
    "        out = self.fc1(x)\n",
    "        out = self.relu(out)\n",
    "        out = self.fc2(out)\n",
    "        out = self.relu(out)\n",
    "        out = self.fc3(out)\n",
    "        out = self.dropout(out)\n",
    "        out = self.fc4(out)\n",
    "        out = self.relu(out)\n",
    "        out = self.fc5(out)\n",
    "        return out\n",
    "\n",
    "\n",
    "# Initialize the model, loss function, optimizer, and learning rate scheduler\n",
    "input_dim = X_train.shape[1]\n",
    "output_dim = len(y_train.unique())  # Number of classes\n",
    "print(\"Input dimensions:\", input_dim)\n",
    "print(\"Output dimensions:\", output_dim)\n",
    "model = SimpleNN(input_dim, output_dim)\n",
    "# Xavier initialization function\n",
    "def initialize_weights(layer):\n",
    "    if isinstance(layer, nn.Linear):\n",
    "        nn.init.xavier_uniform_(layer.weight)  # Xavier initialization (uniform)\n",
    "        nn.init.zeros_(layer.bias)  # Bias initialized to zero\n",
    "\n",
    "# Apply Xavier initialization to the model\n",
    "model.apply(initialize_weights)\n",
    "\n",
    "# Print model to verify initialization\n",
    "print(model) \n",
    "\n",
    "criterion = nn.CrossEntropyLoss()  # For multi-class classification\n",
    "optimizer = optim.Adam(model.parameters(), lr=1e-2, weight_decay=1e-4)  # Added weight decay\n",
    "scheduler = torch.optim.lr_scheduler.StepLR(optimizer, step_size=10, gamma=0.1)  # Reduce LR every 5 epochs\n",
    "\n",
    "# Early stopping configuration\n",
    "early_stopping_patience = 10\n",
    "best_validation_acc = 0\n",
    "epochs_no_improve = 0\n",
    "best_model_state = None\n",
    "\n",
    "# Track metrics for visualization\n",
    "train_losses = []\n",
    "train_accuracies = []\n",
    "val_accuracies = []\n",
    "\n",
    "# Training loop\n",
    "num_epochs = 20\n",
    "for epoch in range(num_epochs):\n",
    "    # Training phase\n",
    "    model.train()\n",
    "    epoch_loss = 0\n",
    "    correct = 0\n",
    "    total = 0\n",
    "\n",
    "    for X_batch, y_batch in train_loader:\n",
    "        optimizer.zero_grad()  # Reset gradients\n",
    "        outputs = model(X_batch)  # Forward pass\n",
    "        loss = criterion(outputs, y_batch)  # Compute loss\n",
    "        loss.backward()  # Backpropagation\n",
    "        optimizer.step()  # Update weights\n",
    "\n",
    "        epoch_loss += loss.item()\n",
    "        _, predicted = torch.max(outputs.data, 1)\n",
    "        total += y_batch.size(0)\n",
    "        correct += (predicted == y_batch).sum().item()\n",
    "    \n",
    "    avg_train_loss = epoch_loss / len(train_loader)\n",
    "    train_accuracy = correct / total\n",
    "    train_losses.append(avg_train_loss)\n",
    "    train_accuracies.append(train_accuracy)\n",
    "\n",
    "    # Validation phase\n",
    "    model.eval()\n",
    "    correct = 0\n",
    "    total = 0\n",
    "    with torch.no_grad():\n",
    "        for X_batch, y_batch in test_loader:\n",
    "            outputs = model(X_batch)  # Forward pass\n",
    "            _, predicted = torch.max(outputs.data, 1)\n",
    "            total += y_batch.size(0)\n",
    "            correct += (predicted == y_batch).sum().item()\n",
    "\n",
    "    val_accuracy = correct / total\n",
    "    val_accuracies.append(val_accuracy)\n",
    "\n",
    "    # Check for best validation accuracy\n",
    "    if val_accuracy > best_validation_acc:\n",
    "        best_validation_acc = val_accuracy\n",
    "        epochs_no_improve = 0\n",
    "        best_model_state = model.state_dict()  # Save the best model\n",
    "    else:\n",
    "        epochs_no_improve += 1\n",
    "\n",
    "    # Print metrics\n",
    "    print(f\"Epoch {epoch+1}/{num_epochs}, Train Loss: {avg_train_loss:.4f}, \"\n",
    "          f\"Train Accuracy: {train_accuracy:.4f}, Validation Accuracy: {val_accuracy:.4f}\")\n",
    "\n",
    "    # Early stopping\n",
    "    if epochs_no_improve >= early_stopping_patience:\n",
    "        print(\"Early stopping triggered!\")\n",
    "        break\n",
    "\n",
    "    # Step the learning rate scheduler\n",
    "    scheduler.step()\n",
    "\n",
    "# Load the best model state\n",
    "if best_model_state is not None:\n",
    "    model.load_state_dict(best_model_state)\n",
    "    print(f\"Best validation accuracy achieved: {best_validation_acc:.4f}\")\n",
    "\n",
    "# Save the final best model to disk (optional)\n",
    "torch.save(best_model_state, \"best_model.pth\")\n",
    "\n",
    "# --- Visualization of Metrics ---\n",
    "epochs = range(1, len(train_losses) + 1)\n",
    "\n",
    "# Plot Training Loss\n",
    "plt.figure(figsize=(14, 6))\n",
    "plt.subplot(1, 2, 1)\n",
    "plt.plot(epochs, train_losses, label='Training Loss', marker='o', color='blue')\n",
    "plt.title('Training Loss Across Epochs')\n",
    "plt.xlabel('Epochs')\n",
    "plt.ylabel('Loss')\n",
    "plt.legend()\n",
    "plt.grid()\n",
    "\n",
    "# Plot Accuracy (Training vs. Validation)\n",
    "plt.subplot(1, 2, 2)\n",
    "plt.plot(epochs, train_accuracies, label='Training Accuracy', marker='o', color='green')\n",
    "plt.plot(epochs, val_accuracies, label='Validation Accuracy', marker='o', color='red')\n",
    "plt.title('Accuracy Across Epochs')\n",
    "plt.xlabel('Epochs')\n",
    "plt.ylabel('Accuracy')\n",
    "plt.legend()\n",
    "plt.grid()\n",
    "\n",
    "plt.tight_layout()\n",
    "plt.show()"
   ]
  },
  {
   "cell_type": "code",
   "execution_count": 219,
   "metadata": {},
   "outputs": [],
   "source": [
    "import pandas as pd"
   ]
  },
  {
   "cell_type": "code",
   "execution_count": null,
   "metadata": {},
   "outputs": [
    {
     "name": "stderr",
     "output_type": "stream",
     "text": [
      "Exception ignored in: <bound method IPythonKernel._clean_thread_parent_frames of <ipykernel.ipkernel.IPythonKernel object at 0x1042af5e0>>\n",
      "Traceback (most recent call last):\n",
      "  File \"/Users/ngumus/projects/Master-Thesis/.venv/lib/python3.10/site-packages/ipykernel/ipkernel.py\", line 775, in _clean_thread_parent_frames\n",
      "    def _clean_thread_parent_frames(\n",
      "KeyboardInterrupt: \n"
     ]
    }
   ],
   "source": [
    "import ast\n",
    "\n",
    "df2= pd.read_csv(\"../data/embeddings/tfidf_wikipedia_m_embeddings.csv\")\n",
    "df2[\"embeddings\"] = df2[\"embeddings\"].apply(ast.literal_eval).astype(np.ndarray)\n",
    "df2[\"embeddings\"] "
   ]
  },
  {
   "cell_type": "code",
   "execution_count": 228,
   "metadata": {},
   "outputs": [
    {
     "ename": "AttributeError",
     "evalue": "'str' object has no attribute 'toarray'",
     "output_type": "error",
     "traceback": [
      "\u001b[0;31m---------------------------------------------------------------------------\u001b[0m",
      "\u001b[0;31mAttributeError\u001b[0m                            Traceback (most recent call last)",
      "Cell \u001b[0;32mIn[228], line 1\u001b[0m\n\u001b[0;32m----> 1\u001b[0m \u001b[43mdf2\u001b[49m\u001b[38;5;241;43m.\u001b[39;49m\u001b[43miloc\u001b[49m\u001b[43m[\u001b[49m\u001b[38;5;241;43m0\u001b[39;49m\u001b[43m]\u001b[49m\u001b[43m[\u001b[49m\u001b[38;5;124;43m\"\u001b[39;49m\u001b[38;5;124;43membeddings\u001b[39;49m\u001b[38;5;124;43m\"\u001b[39;49m\u001b[43m]\u001b[49m\u001b[38;5;241;43m.\u001b[39;49m\u001b[43mtoarray\u001b[49m()\n",
      "\u001b[0;31mAttributeError\u001b[0m: 'str' object has no attribute 'toarray'"
     ]
    }
   ],
   "source": [
    "df2.iloc[0][\"embeddings\"].toarray()"
   ]
  },
  {
   "cell_type": "code",
   "execution_count": null,
   "metadata": {},
   "outputs": [],
   "source": []
  }
 ],
 "metadata": {
  "kernelspec": {
   "display_name": ".venv",
   "language": "python",
   "name": "python3"
  },
  "language_info": {
   "codemirror_mode": {
    "name": "ipython",
    "version": 3
   },
   "file_extension": ".py",
   "mimetype": "text/x-python",
   "name": "python",
   "nbconvert_exporter": "python",
   "pygments_lexer": "ipython3",
   "version": "3.10.15"
  }
 },
 "nbformat": 4,
 "nbformat_minor": 2
}
